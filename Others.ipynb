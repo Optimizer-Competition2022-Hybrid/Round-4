{
 "cells": [
  {
   "cell_type": "markdown",
   "source": [
    "### Imports"
   ],
   "metadata": {
    "collapsed": false,
    "pycharm": {
     "name": "#%% md\n"
    }
   }
  },
  {
   "cell_type": "code",
   "execution_count": null,
   "outputs": [],
   "source": [
    "import math\n",
    "import scipy\n",
    "from scipy.sparse import csgraph\n",
    "from sklearn.cluster import DBSCAN\n",
    "from scipy import linalg as LA\n",
    "import numpy as np\n",
    "import pandas as pd\n",
    "from sklearn.neighbors import kneighbors_graph"
   ],
   "metadata": {
    "collapsed": false,
    "pycharm": {
     "name": "#%%\n"
    }
   }
  },
  {
   "cell_type": "markdown",
   "source": [
    "### Getting affinity matrix of coordinates"
   ],
   "metadata": {
    "collapsed": false,
    "pycharm": {
     "name": "#%% md\n"
    }
   }
  },
  {
   "cell_type": "code",
   "execution_count": null,
   "outputs": [],
   "source": [
    "def getAffinityMatrix(coordinates, n_neighbors, mode='fill_symmetric', LD=None):\n",
    "  A = kneighbors_graph(coordinates, n_neighbors=min(n_neighbors,len(coordinates)-1), mode='connectivity', include_self=False).toarray()\n",
    "  if mode=='fill_symmetric':\n",
    "    for i in range(len(A)):\n",
    "      for j in range(len(A[0])):\n",
    "        if A[i][j] == 1:\n",
    "          A[j][i] = 1\n",
    "  elif mode=='mutal_symmetric':\n",
    "    for i in range(len(A)):\n",
    "      for j in range(len(A[0])):\n",
    "        if A[i][j] != A[j][i]:\n",
    "          A[j][i] = 0\n",
    "  elif mode=='ld_constraint':\n",
    "    # if LD is None:\n",
    "    #   LD = get_local_intrinsic_dimension(coordinates,n_neighbors)\n",
    "    for i in range(len(A)):\n",
    "      for j in range(len(A[0])):\n",
    "        if LD[i] != LD[j]:\n",
    "          A[i][j] = 0\n",
    "          A[j][i] = 0\n",
    "  return A\n",
    "\n"
   ],
   "metadata": {
    "collapsed": false,
    "pycharm": {
     "name": "#%%\n"
    }
   }
  },
  {
   "cell_type": "markdown",
   "source": [
    "### Getting knapsacks cost function from affinity matrix"
   ],
   "metadata": {
    "collapsed": false,
    "pycharm": {
     "name": "#%% md\n"
    }
   }
  },
  {
   "cell_type": "code",
   "execution_count": null,
   "outputs": [],
   "source": [
    "def getManifoldKSimilarity(list_manifold, list_k):\n",
    "  m = len(list_manifold)\n",
    "  num_k = len(list_k)\n",
    "  TopK = max(list_k)+2\n",
    "  M = []\n",
    "  for i in range(m):\n",
    "    print(i)\n",
    "    A = list_manifold[i]\n",
    "    L = csgraph.laplacian(A, normed=True)\n",
    "    n_components = A.shape[0]-1\n",
    "    eigenvalues = scipy.sparse.linalg.eigsh(L,k=min(TopK,n_components), return_eigenvectors=False, which='SM',\n",
    "                                            tol=1e-3, maxiter=500)\n",
    "    eigenvalues = eigenvalues[::-1]\n",
    "    # eigenvalues = sorted(eigenvalues)\n",
    "\n",
    "    # if plot:\n",
    "    #     plt.title('Largest eigen values of input matrix')\n",
    "    #     plt.scatter(np.arange(len(eigenvalues))[:10], eigenvalues[:10])\n",
    "    #     plt.grid()\n",
    "\n",
    "    max_gap = 0\n",
    "    gap_pre_index = 0\n",
    "    k_gap = [0 for i in range(len(list_k))]\n",
    "    k_gap_pre_index = [0 for i in range(len(list_k))]\n",
    "    for i in range(1, TopK):\n",
    "        gap = np.abs(eigenvalues[i] / eigenvalues[i - 1])\n",
    "        if i in list_k:\n",
    "          k_gap[list_k.index(i)] = gap\n",
    "          k_gap_pre_index[list_k.index(i)] = i\n",
    "        if gap > max_gap:\n",
    "            max_gap = gap\n",
    "            gap_pre_index = i\n",
    "    k_gap_similarity = [k_gap[i]/max_gap * 1/(np.abs(k_gap_pre_index[i]-gap_pre_index)+1) for i in range(len(k_gap))]\n",
    "    print(k_gap_similarity)\n",
    "    M.append(k_gap_similarity)\n",
    "  return M"
   ],
   "metadata": {
    "collapsed": false,
    "pycharm": {
     "name": "#%%\n"
    }
   }
  },
  {
   "cell_type": "markdown",
   "source": [
    "### Knapsack"
   ],
   "metadata": {
    "collapsed": false,
    "pycharm": {
     "name": "#%% md\n"
    }
   }
  },
  {
   "cell_type": "code",
   "execution_count": null,
   "outputs": [],
   "source": [
    "# cost is m * len(k_list) showing cost for each k_i option\n",
    "# m_size is the number of manifolds / subsets\n",
    "# k_sum is the required sum of chosen k_is\n",
    "# k_list is the list of possible values for k_is\n",
    "def finding_optimal_ks(cost, m_size, k_sum, k_list):\n",
    "    dp = []\n",
    "    dp_base = [0]\n",
    "    par = []\n",
    "    par_base = [0]\n",
    "    k_size = len(k_list)\n",
    "    for i in range(1, k_sum + 1):\n",
    "        dp_base.append(math.inf)\n",
    "        par_base.append(-1)\n",
    "    dp.append(dp_base)\n",
    "    par.append(par_base)\n",
    "    for i in range(1, m_size + 1):\n",
    "        tmp_dp_list = [math.inf] * (k_sum + 1)\n",
    "        tmp_par_list = [-1] * (k_sum + 1)\n",
    "        for j in range(k_sum + 1):\n",
    "            for z in range(k_size):\n",
    "                if j >= k_list[z]:\n",
    "                    print(k_sum, ' ', len(dp[i-1]))\n",
    "                    if tmp_dp_list[j] > dp[i - 1][j - k_list[z]] + cost[i-1][z]:\n",
    "                        if par[i - 1][j - k_list[z]] != - 1:\n",
    "                            tmp_dp_list[j] = dp[i - 1][j - k_list[z]] + cost[i-1][z]\n",
    "                            tmp_par_list[j] = z\n",
    "        dp.append(tmp_dp_list)\n",
    "        par.append(tmp_par_list)\n",
    "    ind = m_size\n",
    "    k_ind = k_sum\n",
    "    res = []\n",
    "    while ind != 0:\n",
    "        res.append(par[ind][k_ind])\n",
    "        k_ind -= k_list[par[ind][k_ind]]\n",
    "        ind -= 1\n",
    "    res.reverse()\n",
    "    return res, dp[m_size][k_sum]"
   ],
   "metadata": {
    "collapsed": false,
    "pycharm": {
     "name": "#%%\n"
    }
   }
  }
 ],
 "metadata": {
  "kernelspec": {
   "display_name": "Python 3",
   "language": "python",
   "name": "python3"
  },
  "language_info": {
   "codemirror_mode": {
    "name": "ipython",
    "version": 2
   },
   "file_extension": ".py",
   "mimetype": "text/x-python",
   "name": "python",
   "nbconvert_exporter": "python",
   "pygments_lexer": "ipython2",
   "version": "2.7.6"
  }
 },
 "nbformat": 4,
 "nbformat_minor": 0
}