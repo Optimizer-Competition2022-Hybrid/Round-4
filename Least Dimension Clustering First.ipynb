{
 "cells": [
  {
   "cell_type": "code",
   "execution_count": null,
   "outputs": [],
   "source": [
    "from scipy.sparse import csc_matrix\n",
    "from scipy.sparse.csgraph import csgraph_from_masked\n",
    "\n",
    "\n",
    "class AffinityMatrix:\n",
    "\n",
    "    def __init__(self, n_neighbor, max_neighbor, dim_neighbor):\n",
    "        self.distances = None\n",
    "        self.neighbors = None\n",
    "        self.points = None\n",
    "        self.dims = None\n",
    "        self.components_ = None\n",
    "        self.min_dim = None\n",
    "        self.n_neighbor = n_neighbor\n",
    "        self.max_neighbor = max_neighbor\n",
    "        self.dim_neighbor = dim_neighbor\n",
    "\n",
    "    def get_real_neighbors(self, x):\n",
    "        res = [x]\n",
    "        for ind in self.neighbors[x]:\n",
    "            res.append(ind)\n",
    "        return np.asarray(res, dtype=np.int32)\n",
    "\n",
    "    def get_real_neighbors_points(self, x):\n",
    "        res = []\n",
    "        for u in self.get_real_neighbors(x):\n",
    "            res.append(self.points[u])\n",
    "        return np.asarray(res)\n",
    "\n",
    "    def fit(self, X):\n",
    "        nbrs = NearestNeighbors(n_neighbors=self.n_neighbor).fit(X)\n",
    "        self.distances, self.neighbors = nbrs.kneighbors(X)\n",
    "        self.points = X.to_numpy()\n",
    "        self.dims = np.zeros(shape=(len(X)))\n",
    "        for v in range(len(X)):\n",
    "            self.dims[v] = get_dimension(self.get_real_neighbors_points(v), 0.000001, self.dim_neighbor)\n",
    "        self.min_dim = min(self.dims)\n",
    "\n",
    "    def is_connected(self, i, j):\n",
    "        if min(self.dims[i], self.dims[j]) != self.min_dim:\n",
    "            return False\n",
    "        return True\n",
    "\n",
    "    def get_connection_weight(self, i, j):\n",
    "        if not self.is_connected(i, j):\n",
    "            return np.inf\n",
    "        return np.linalg.norm(self.points[i] - self.points[j])\n",
    "\n",
    "    def predict(self):\n",
    "        row = []\n",
    "        col = []\n",
    "        data = []\n",
    "        nn = len(self.points)\n",
    "        for i in range(len(self.points)):\n",
    "            if self.dims[i] != self.min_dim:\n",
    "                continue\n",
    "            cnt = 0\n",
    "            r_n = self.get_real_neighbors(i)\n",
    "            for jj in range(self.max_neighbor, 0, -1):\n",
    "                j = r_n[jj]\n",
    "                if cnt == 2 * self.dims[i] + 2:\n",
    "                    break\n",
    "                if self.is_connected(i, j):\n",
    "                    cnt += 1\n",
    "                    row.append(i)\n",
    "                    col.append(j)\n",
    "                    data.append(self.get_connection_weight(j, i))\n",
    "                    row.append(j)\n",
    "                    col.append(i)\n",
    "                    data.append(self.get_connection_weight(i, j))\n",
    "        return csc_matrix((np.array(data), (np.array(row), np.array(col))), shape=(nn, nn))\n"
   ],
   "metadata": {
    "collapsed": false,
    "pycharm": {
     "name": "#%%\n"
    }
   }
  }
 ],
 "metadata": {
  "kernelspec": {
   "display_name": "Python 3",
   "language": "python",
   "name": "python3"
  },
  "language_info": {
   "codemirror_mode": {
    "name": "ipython",
    "version": 2
   },
   "file_extension": ".py",
   "mimetype": "text/x-python",
   "name": "python",
   "nbconvert_exporter": "python",
   "pygments_lexer": "ipython2",
   "version": "2.7.6"
  }
 },
 "nbformat": 4,
 "nbformat_minor": 0
}